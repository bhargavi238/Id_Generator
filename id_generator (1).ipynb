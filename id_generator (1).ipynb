{
  "nbformat": 4,
  "nbformat_minor": 0,
  "metadata": {
    "colab": {
      "provenance": []
    },
    "kernelspec": {
      "name": "python3",
      "display_name": "Python 3"
    },
    "language_info": {
      "name": "python"
    }
  },
  "cells": [
    {
      "cell_type": "code",
      "execution_count": 2,
      "metadata": {
        "colab": {
          "base_uri": "https://localhost:8080/"
        },
        "id": "xPTb1r-QjifB",
        "outputId": "4ff5056e-1c8d-4dd7-cc18-c1828f57816a"
      },
      "outputs": [
        {
          "output_type": "stream",
          "name": "stdout",
          "text": [
            "Requirement already satisfied: Pillow in /usr/local/lib/python3.10/dist-packages (9.4.0)\n",
            "Collecting faker\n",
            "  Downloading Faker-25.3.0-py3-none-any.whl (1.8 MB)\n",
            "\u001b[2K     \u001b[90m━━━━━━━━━━━━━━━━━━━━━━━━━━━━━━━━━━━━━━━━\u001b[0m \u001b[32m1.8/1.8 MB\u001b[0m \u001b[31m21.3 MB/s\u001b[0m eta \u001b[36m0:00:00\u001b[0m\n",
            "\u001b[?25hRequirement already satisfied: python-dateutil>=2.4 in /usr/local/lib/python3.10/dist-packages (from faker) (2.8.2)\n",
            "Requirement already satisfied: six>=1.5 in /usr/local/lib/python3.10/dist-packages (from python-dateutil>=2.4->faker) (1.16.0)\n",
            "Installing collected packages: faker\n",
            "Successfully installed faker-25.3.0\n"
          ]
        }
      ],
      "source": [
        "!pip install Pillow faker\n"
      ]
    },
    {
      "cell_type": "code",
      "source": [
        "# Step 2: Import required libraries\n",
        "from PIL import Image, ImageDraw, ImageFont\n",
        "from faker import Faker\n",
        "import random\n",
        "import os\n",
        "import json\n",
        "import requests\n",
        "import shutil\n",
        "from google.colab import files\n",
        "from PIL import Image, ImageDraw, ImageFont"
      ],
      "metadata": {
        "id": "TE2AlKEPjkdm"
      },
      "execution_count": 3,
      "outputs": []
    },
    {
      "cell_type": "code",
      "source": [
        "fake = Faker()"
      ],
      "metadata": {
        "id": "HYn5xY8TjoPp"
      },
      "execution_count": 4,
      "outputs": []
    },
    {
      "cell_type": "code",
      "source": [
        "image_url = \"/content/wMOp41qN70.jpg\"\n",
        "json_url = \"/content/wMOp41qN70.json\""
      ],
      "metadata": {
        "id": "C0blF-9HjxrR"
      },
      "execution_count": 5,
      "outputs": []
    },
    {
      "cell_type": "code",
      "source": [
        "template_image = Image.open(image_url)"
      ],
      "metadata": {
        "id": "Dxj_Uinfj9oW"
      },
      "execution_count": 6,
      "outputs": []
    },
    {
      "cell_type": "code",
      "source": [
        "with open(json_url, 'r') as file:\n",
        "    data = json.load(file)"
      ],
      "metadata": {
        "id": "1QKDA2HrkB4r"
      },
      "execution_count": 7,
      "outputs": []
    },
    {
      "cell_type": "code",
      "source": [
        "coordinates = {\n",
        "    \"name\": (346, 150),\n",
        "    \"dob\": (346, 220),\n",
        "    \"blood_group\": (346, 290),\n",
        "    \"father_name\": (346, 358),\n",
        "    \"issue_date\": (346, 430),\n",
        "    \"expiry_date\": (630, 430),\n",
        "    \"license_number\": (346, 504),\n",
        "    \"issuing_authority\": (622, 504)\n",
        "}\n"
      ],
      "metadata": {
        "id": "tpaQGmWEkFUT"
      },
      "execution_count": 8,
      "outputs": []
    },
    {
      "cell_type": "code",
      "source": [
        " # Define font sizes\n",
        "main_font_size = 35\n",
        "smaller_font_size = 28\n",
        "\n",
        "    # Load fonts\n",
        "main_font = ImageFont.truetype(\"LiberationSerif-Bold.ttf\", main_font_size)\n",
        "smaller_font = ImageFont.truetype(\"LiberationSerif-Bold.ttf\", smaller_font_size)"
      ],
      "metadata": {
        "id": "OiZeCeqt8esa"
      },
      "execution_count": 9,
      "outputs": []
    },
    {
      "cell_type": "code",
      "source": [
        "# Step 4: Function to generate random information using Faker\n",
        "def generate_random_info():\n",
        "    name = fake.name()\n",
        "    dob = fake.date_of_birth(minimum_age=18, maximum_age=70).strftime(\"%d %b %Y\")\n",
        "    blood_group = random.choice([\"A+\", \"B+\", \"O+\", \"AB+\", \"A-\", \"B-\", \"O-\", \"AB-\"])\n",
        "    father_name = fake.name()\n",
        "    issue_date = fake.date_between(start_date='-10y', end_date='today').strftime(\"%d %b %Y\")\n",
        "    expiry_date = fake.date_between(start_date='today', end_date='+10y').strftime(\"%d %b %Y\")\n",
        "    license_number = f\"DK{fake.random_number(digits=7, fix_len=True)}C00000\"\n",
        "    issuing_authority = \"BRTA, DHAKA METRO-2\"\n",
        "\n",
        "    return {\n",
        "        \"name\": name,\n",
        "        \"dob\": dob,\n",
        "        \"blood_group\": blood_group,\n",
        "        \"father_name\": father_name,\n",
        "        \"issue_date\": issue_date,\n",
        "        \"expiry_date\": expiry_date,\n",
        "        \"license_number\": license_number,\n",
        "        \"issuing_authority\": issuing_authority\n",
        "    }\n"
      ],
      "metadata": {
        "id": "immFno7XkJwc"
      },
      "execution_count": 10,
      "outputs": []
    },
    {
      "cell_type": "code",
      "source": [
        "# Step 4: Generate multiple ID cards with different background images\n",
        "background_images = [\n",
        "    '/content/1.jpg',\n",
        "    '/content/2.jpg',\n",
        "    '/content/3.jpg',\n",
        "    '/content/4.jpg',\n",
        "    '/content/5.jpg',\n",
        "    '/content/6.jpg'\n",
        "]"
      ],
      "metadata": {
        "id": "FmdAte3M84WW"
      },
      "execution_count": 11,
      "outputs": []
    },
    {
      "cell_type": "code",
      "source": [
        "# Step 5: Create directory for generated images\n",
        "output_dir = \"/content/generated_id_cards\"\n",
        "os.makedirs(output_dir, exist_ok=True)"
      ],
      "metadata": {
        "id": "NZKDxg-TkP7w"
      },
      "execution_count": 12,
      "outputs": []
    },
    {
      "cell_type": "code",
      "source": [
        "# Additional margin (0.5 cm) in pixels\n",
        "additional_margin_px = int( 96 / 2.54)"
      ],
      "metadata": {
        "id": "fxEbZhR_K5Bq"
      },
      "execution_count": 13,
      "outputs": []
    },
    {
      "cell_type": "code",
      "source": [
        "# Step 6: Generate 100 unique ID cards\n",
        "for i in range(100):\n",
        "    # Create a copy of the template image\n",
        "    img = template_image.copy()\n",
        "    draw = ImageDraw.Draw(img)\n",
        "\n",
        "    # Generate random info\n",
        "    info = generate_random_info()\n",
        "\n",
        "    # Overlay the info onto the image\n",
        "    for key, value in info.items():\n",
        "        if key in [\"license_number\", \"issuing_authority\"]:\n",
        "            draw.text(coordinates[key], value, font=smaller_font, fill=\"black\")\n",
        "        else:\n",
        "            draw.text(coordinates[key], value, font=main_font, fill=\"black\")\n",
        "\n",
        "    # Rotate the template image by a random angle\n",
        "    angle = random.randint(0, 360)\n",
        "    rotated_img = img.rotate(angle, expand=True)\n",
        "\n",
        "    # Ensure the rotated image has an alpha channel\n",
        "    rotated_img = rotated_img.convert(\"RGBA\")\n",
        "\n",
        "    # Select a random background image\n",
        "    background_image_path = random.choice(background_images)\n",
        "    background_image = Image.open(background_image_path).convert(\"RGBA\")\n",
        "\n",
        "    # Resize the background image with additional margin\n",
        "\n",
        "    resized_width = img.width + img.height\n",
        "    resized_height = img.height * 2\n",
        "    background_image = background_image.resize((resized_width, resized_height))\n",
        "\n",
        "    # Calculate the position to paste the rotated image onto the background\n",
        "    paste_x = (background_image.width - rotated_img.width) // 2\n",
        "    paste_y = (background_image.height - rotated_img.height) // 2\n",
        "\n",
        "    # Combine with the background image using the mask\n",
        "    background_image.paste(rotated_img, (paste_x, paste_y))\n",
        "\n",
        "    # Save the combined image\n",
        "    background_image.save(os.path.join(output_dir, f\"id_card_{i+1}.png\"))\n"
      ],
      "metadata": {
        "id": "79hS2SrakUth"
      },
      "execution_count": 23,
      "outputs": []
    },
    {
      "cell_type": "code",
      "source": [
        "print(\"100 ID cards have been generated successfully.\")"
      ],
      "metadata": {
        "colab": {
          "base_uri": "https://localhost:8080/"
        },
        "id": "t9_ZANPTkaFS",
        "outputId": "9868db0c-1929-45e6-e50f-2961c6678aa5"
      },
      "execution_count": 24,
      "outputs": [
        {
          "output_type": "stream",
          "name": "stdout",
          "text": [
            "100 ID cards have been generated successfully.\n"
          ]
        }
      ]
    },
    {
      "cell_type": "code",
      "source": [
        "shutil.make_archive('/content/generated_id_cards', 'zip', '/content/generated_id_cards')\n",
        "files.download('/content/generated_id_cards.zip')"
      ],
      "metadata": {
        "id": "X4micUFtL3Bp",
        "colab": {
          "base_uri": "https://localhost:8080/",
          "height": 17
        },
        "outputId": "b1673cfc-5f3c-43c2-ddf5-0442fe8433ad"
      },
      "execution_count": 25,
      "outputs": [
        {
          "output_type": "display_data",
          "data": {
            "text/plain": [
              "<IPython.core.display.Javascript object>"
            ],
            "application/javascript": [
              "\n",
              "    async function download(id, filename, size) {\n",
              "      if (!google.colab.kernel.accessAllowed) {\n",
              "        return;\n",
              "      }\n",
              "      const div = document.createElement('div');\n",
              "      const label = document.createElement('label');\n",
              "      label.textContent = `Downloading \"${filename}\": `;\n",
              "      div.appendChild(label);\n",
              "      const progress = document.createElement('progress');\n",
              "      progress.max = size;\n",
              "      div.appendChild(progress);\n",
              "      document.body.appendChild(div);\n",
              "\n",
              "      const buffers = [];\n",
              "      let downloaded = 0;\n",
              "\n",
              "      const channel = await google.colab.kernel.comms.open(id);\n",
              "      // Send a message to notify the kernel that we're ready.\n",
              "      channel.send({})\n",
              "\n",
              "      for await (const message of channel.messages) {\n",
              "        // Send a message to notify the kernel that we're ready.\n",
              "        channel.send({})\n",
              "        if (message.buffers) {\n",
              "          for (const buffer of message.buffers) {\n",
              "            buffers.push(buffer);\n",
              "            downloaded += buffer.byteLength;\n",
              "            progress.value = downloaded;\n",
              "          }\n",
              "        }\n",
              "      }\n",
              "      const blob = new Blob(buffers, {type: 'application/binary'});\n",
              "      const a = document.createElement('a');\n",
              "      a.href = window.URL.createObjectURL(blob);\n",
              "      a.download = filename;\n",
              "      div.appendChild(a);\n",
              "      a.click();\n",
              "      div.remove();\n",
              "    }\n",
              "  "
            ]
          },
          "metadata": {}
        },
        {
          "output_type": "display_data",
          "data": {
            "text/plain": [
              "<IPython.core.display.Javascript object>"
            ],
            "application/javascript": [
              "download(\"download_301baedd-24ca-42ad-a8f7-22581ffb0cb2\", \"generated_id_cards.zip\", 146892367)"
            ]
          },
          "metadata": {}
        }
      ]
    },
    {
      "cell_type": "code",
      "source": [],
      "metadata": {
        "id": "fGs20P3mke89"
      },
      "execution_count": null,
      "outputs": []
    }
  ]
}